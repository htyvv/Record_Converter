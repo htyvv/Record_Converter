{
 "cells": [
  {
   "cell_type": "code",
   "execution_count": 3,
   "metadata": {},
   "outputs": [],
   "source": [
    "from bs4 import BeautifulSoup"
   ]
  },
  {
   "attachments": {},
   "cell_type": "markdown",
   "metadata": {},
   "source": [
    "## LOAD TEMPLATE "
   ]
  },
  {
   "cell_type": "code",
   "execution_count": 55,
   "metadata": {},
   "outputs": [],
   "source": [
    "DATA_DIR = \"./data\"\n",
    "\n",
    "AUD_PREFIX = \"hu\"\n",
    "AUD_VOCA_POSTFIX = \"vo\"\n",
    "AUD_SENT_POSTFIX = \"es\""
   ]
  },
  {
   "cell_type": "code",
   "execution_count": 52,
   "metadata": {},
   "outputs": [],
   "source": [
    "# load html via bs4\n",
    "with open(f\"{DATA_DIR}/template.html\") as fp:\n",
    "    template = BeautifulSoup(fp, 'html.parser')"
   ]
  },
  {
   "attachments": {},
   "cell_type": "markdown",
   "metadata": {},
   "source": [
    "## FIND TAGS"
   ]
  },
  {
   "cell_type": "code",
   "execution_count": 36,
   "metadata": {},
   "outputs": [
    {
     "data": {
      "text/plain": [
       "<div class=\"child-div page-header-text\">1주차.단어</div>"
      ]
     },
     "execution_count": 36,
     "metadata": {},
     "output_type": "execute_result"
    }
   ],
   "source": [
    "template.find(\"div\", {\"class\": \"child-div page-header-text\"})"
   ]
  },
  {
   "cell_type": "code",
   "execution_count": 37,
   "metadata": {},
   "outputs": [
    {
     "data": {
      "text/plain": [
       "<span class=\"block-text-span\" id=\"text1\">헝가리어 텍스트 입력</span>"
      ]
     },
     "execution_count": 37,
     "metadata": {},
     "output_type": "execute_result"
    }
   ],
   "source": [
    "template.find(\"span\", {\"id\": \"text1\", \"class\": \"block-text-span\"})"
   ]
  },
  {
   "cell_type": "code",
   "execution_count": 39,
   "metadata": {},
   "outputs": [
    {
     "data": {
      "text/plain": [
       "<span class=\"block-text-span\" id=\"text2\" style=\"display: none\">한국어 텍스트 입력</span>"
      ]
     },
     "execution_count": 39,
     "metadata": {},
     "output_type": "execute_result"
    }
   ],
   "source": [
    "template.find(\"span\", {\"id\": \"text2\", \"class\": \"block-text-span\", \"style\": \"display: none\"})"
   ]
  },
  {
   "cell_type": "code",
   "execution_count": null,
   "metadata": {},
   "outputs": [],
   "source": [
    "n_week = 2\n",
    "contents_idx = 44\n",
    "audio_file_name = f\"audio/{AUD_PREFIX}-{AUD_VOCA_POSTFIX}-{n_week:02}-{contents_idx:03}.mp3\""
   ]
  },
  {
   "cell_type": "code",
   "execution_count": 56,
   "metadata": {},
   "outputs": [],
   "source": [
    "template.find(\"audio\", {\"id\": \"audio1\"}).find(\"source\")[\"src\"] = audio_file_name\n",
    "template.find(\"audio\", {\"id\": \"audio2\"}).find(\"source\")[\"src\"] = audio_file_name"
   ]
  },
  {
   "attachments": {},
   "cell_type": "markdown",
   "metadata": {},
   "source": [
    "## CONVERT"
   ]
  },
  {
   "cell_type": "code",
   "execution_count": 30,
   "metadata": {},
   "outputs": [
    {
     "data": {
      "text/plain": [
       "'1주차.단어'"
      ]
     },
     "execution_count": 30,
     "metadata": {},
     "output_type": "execute_result"
    }
   ],
   "source": [
    "# access by tag and replace with new text\n",
    "template.find(\"div\", {\"class\": \"child-div page-header-text\"}).string.replace_with(\"3주차.단어\")"
   ]
  }
 ],
 "metadata": {
  "kernelspec": {
   "display_name": "Python 3",
   "language": "python",
   "name": "python3"
  },
  "language_info": {
   "codemirror_mode": {
    "name": "ipython",
    "version": 3
   },
   "file_extension": ".py",
   "mimetype": "text/x-python",
   "name": "python",
   "nbconvert_exporter": "python",
   "pygments_lexer": "ipython3",
   "version": "3.9.7"
  },
  "orig_nbformat": 4
 },
 "nbformat": 4,
 "nbformat_minor": 2
}
