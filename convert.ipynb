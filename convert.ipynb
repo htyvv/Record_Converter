{
 "cells": [
  {
   "cell_type": "code",
   "execution_count": 13,
   "metadata": {},
   "outputs": [],
   "source": [
    "from bs4 import BeautifulSoup\n",
    "import pandas as pd\n",
    "from tqdm import tqdm\n",
    "import os"
   ]
  },
  {
   "attachments": {},
   "cell_type": "markdown",
   "metadata": {},
   "source": [
    "## Static Variables"
   ]
  },
  {
   "cell_type": "code",
   "execution_count": 4,
   "metadata": {},
   "outputs": [],
   "source": [
    "# Config\n",
    "LANGUAGE = \"hu\" # \"gr\", \"m\", \"s\", \"a\", \"uz\", \"cz\", \"th\"\n",
    "VOCABULARY = \"vo\"\n",
    "SENTENCE = \"es\"\n",
    "\n",
    "# File path\n",
    "DATA_DIR = \"./data\"\n",
    "VOCABULARY_EXCEL_PATH = f\"{DATA_DIR}/중급헝가리어 어휘 (600).xlsx\"\n",
    "SENTENCE_EXCEL_PATH = f\"{DATA_DIR}/중급헝가리어 문장 (700).xlsx\""
   ]
  },
  {
   "attachments": {},
   "cell_type": "markdown",
   "metadata": {},
   "source": [
    "## LOAD TEMPLATE "
   ]
  },
  {
   "cell_type": "code",
   "execution_count": 25,
   "metadata": {},
   "outputs": [],
   "source": [
    "# load html via bs4\n",
    "with open(f\"{DATA_DIR}/template.html\", encoding=\"UTF8\") as fp:\n",
    "    template = BeautifulSoup(fp, 'html.parser')"
   ]
  },
  {
   "attachments": {},
   "cell_type": "markdown",
   "metadata": {},
   "source": [
    "## FIND TAGS"
   ]
  },
  {
   "cell_type": "code",
   "execution_count": 8,
   "metadata": {},
   "outputs": [
    {
     "data": {
      "text/plain": [
       "<div class=\"child-div page-header-text\">1주차.단어</div>"
      ]
     },
     "execution_count": 8,
     "metadata": {},
     "output_type": "execute_result"
    }
   ],
   "source": [
    "template.find(\"div\", {\"class\": \"child-div page-header-text\"})"
   ]
  },
  {
   "cell_type": "code",
   "execution_count": 9,
   "metadata": {},
   "outputs": [
    {
     "data": {
      "text/plain": [
       "<span class=\"block-text-span\" id=\"text1\">헝가리어 텍스트 입력</span>"
      ]
     },
     "execution_count": 9,
     "metadata": {},
     "output_type": "execute_result"
    }
   ],
   "source": [
    "template.find(\"span\", {\"id\": \"text1\", \"class\": \"block-text-span\"})"
   ]
  },
  {
   "cell_type": "code",
   "execution_count": 10,
   "metadata": {},
   "outputs": [
    {
     "data": {
      "text/plain": [
       "<span class=\"block-text-span\" id=\"text2\" style=\"display: none\">한국어 텍스트 입력</span>"
      ]
     },
     "execution_count": 10,
     "metadata": {},
     "output_type": "execute_result"
    }
   ],
   "source": [
    "template.find(\"span\", {\"id\": \"text2\", \"class\": \"block-text-span\", \"style\": \"display: none\"})"
   ]
  },
  {
   "cell_type": "code",
   "execution_count": 11,
   "metadata": {},
   "outputs": [
    {
     "data": {
      "text/plain": [
       "'audio/gr-es-01-001.mp3'"
      ]
     },
     "execution_count": 11,
     "metadata": {},
     "output_type": "execute_result"
    }
   ],
   "source": [
    "template.find(\"audio\", {\"id\": \"audio1\"}).find(\"source\")[\"src\"]"
   ]
  },
  {
   "cell_type": "code",
   "execution_count": 12,
   "metadata": {},
   "outputs": [
    {
     "data": {
      "text/plain": [
       "'audio/gr-es-01-001.mp3'"
      ]
     },
     "execution_count": 12,
     "metadata": {},
     "output_type": "execute_result"
    }
   ],
   "source": [
    "template.find(\"audio\", {\"id\": \"audio2\"}).find(\"source\")[\"src\"]"
   ]
  },
  {
   "attachments": {},
   "cell_type": "markdown",
   "metadata": {},
   "source": [
    "## CONVERT"
   ]
  },
  {
   "cell_type": "code",
   "execution_count": 16,
   "metadata": {},
   "outputs": [],
   "source": [
    "n_week = 2\n",
    "contents_idx = 44\n",
    "audio_file_name = f\"audio/{LANGUAGE}-{VOCABULARY}-{n_week:02}-{contents_idx:03}.mp3\""
   ]
  },
  {
   "cell_type": "code",
   "execution_count": 30,
   "metadata": {},
   "outputs": [
    {
     "data": {
      "text/plain": [
       "'1주차.단어'"
      ]
     },
     "execution_count": 30,
     "metadata": {},
     "output_type": "execute_result"
    }
   ],
   "source": [
    "# access by tag and replace with new text\n",
    "template.find(\"div\", {\"class\": \"child-div page-header-text\"}).string.replace_with(f\"{n_week}주차.단어\")"
   ]
  },
  {
   "cell_type": "code",
   "execution_count": null,
   "metadata": {},
   "outputs": [],
   "source": [
    "template.find(\"audio\", {\"id\": \"audio1\"}).find(\"source\")[\"src\"] = audio_file_name\n",
    "template.find(\"audio\", {\"id\": \"audio2\"}).find(\"source\")[\"src\"] = audio_file_name"
   ]
  },
  {
   "attachments": {},
   "cell_type": "markdown",
   "metadata": {},
   "source": [
    "## READ Excel"
   ]
  },
  {
   "cell_type": "markdown",
   "metadata": {},
   "source": [
    "### VOCABULARY"
   ]
  },
  {
   "cell_type": "code",
   "execution_count": 32,
   "metadata": {},
   "outputs": [
    {
     "name": "stderr",
     "output_type": "stream",
     "text": [
      "100%|██████████| 14/14 [00:01<00:00,  7.51it/s]\n"
     ]
    }
   ],
   "source": [
    "for n_week in tqdm(range(1, 15)):\n",
    "    # Convert vocabulary\n",
    "    vocabulary_df = pd.read_excel(\n",
    "        VOCABULARY_EXCEL_PATH,\n",
    "        sheet_name=f\"단어-{n_week}주차\",\n",
    "        header=None,\n",
    "        names=[LANGUAGE, \"kr\"]\n",
    "    )\n",
    "    \n",
    "    for sent_idx, sentence in vocabulary_df.iterrows():\n",
    "        with open(f\"{DATA_DIR}/template.html\", encoding=\"UTF8\") as fp:\n",
    "            template = BeautifulSoup(fp, 'html.parser')\n",
    "        template.find(\"div\", {\"class\": \"child-div page-header-text\"}).string.replace_with(f\"{n_week}주차.단어\")\n",
    "        template.find(\"span\", {\"id\": \"text1\", \"class\": \"block-text-span\"}).string.replace_with(sentence[LANGUAGE])\n",
    "        template.find(\"span\", {\"id\": \"text2\", \"class\": \"block-text-span\", \"style\": \"display: none\"}).string.replace_with(sentence[\"kr\"])\n",
    "        audio_file_name = f\"audio/{LANGUAGE}-{VOCABULARY}-{n_week:02}-{(sent_idx+1):03}.mp3\"\n",
    "        template.find(\"audio\", {\"id\": \"audio1\"}).find(\"source\")[\"src\"] = audio_file_name\n",
    "        template.find(\"audio\", {\"id\": \"audio2\"}).find(\"source\")[\"src\"] = audio_file_name\n",
    "\n",
    "        save_path = f\"./result/단어/{n_week}주차\"\n",
    "        if not os.path.exists(save_path): \n",
    "            os.makedirs(save_path)\n",
    "        with open(f\"{save_path}/{sent_idx+2}.html\", \"w\", encoding=\"UTF8\") as file:\n",
    "            file.write(str(template))"
   ]
  },
  {
   "cell_type": "markdown",
   "metadata": {},
   "source": [
    "## SENSTENCE"
   ]
  },
  {
   "cell_type": "code",
   "execution_count": 33,
   "metadata": {},
   "outputs": [
    {
     "name": "stderr",
     "output_type": "stream",
     "text": [
      "100%|██████████| 14/14 [00:02<00:00,  5.75it/s]\n"
     ]
    }
   ],
   "source": [
    "for n_week in tqdm(range(1, 15)):\n",
    "    # Convert sentence\n",
    "    sentence_df = pd.read_excel(\n",
    "        SENTENCE_EXCEL_PATH,\n",
    "        sheet_name=f\"예문-{n_week}주차\",\n",
    "        header=None,\n",
    "        names=[LANGUAGE, \"kr\"]\n",
    "    )\n",
    "    \n",
    "    for sent_idx, sentence in sentence_df.iterrows():\n",
    "        with open(f\"{DATA_DIR}/template.html\", encoding=\"UTF8\") as fp:\n",
    "            template = BeautifulSoup(fp, 'html.parser')\n",
    "        template.find(\"div\", {\"class\": \"child-div page-header-text\"}).string.replace_with(f\"{n_week}주차.문장\")\n",
    "        template.find(\"span\", {\"id\": \"text1\", \"class\": \"block-text-span\"}).string.replace_with(sentence[LANGUAGE])\n",
    "        template.find(\"span\", {\"id\": \"text2\", \"class\": \"block-text-span\", \"style\": \"display: none\"}).string.replace_with(sentence[\"kr\"])\n",
    "        audio_file_name = f\"audio/{LANGUAGE}-{SENTENCE}-{n_week:02}-{(sent_idx+1):03}.mp3\"\n",
    "        template.find(\"audio\", {\"id\": \"audio1\"}).find(\"source\")[\"src\"] = audio_file_name\n",
    "        template.find(\"audio\", {\"id\": \"audio2\"}).find(\"source\")[\"src\"] = audio_file_name\n",
    "\n",
    "        save_path = f\"./result/문장/{n_week}주차\"\n",
    "        if not os.path.exists(save_path):\n",
    "            os.makedirs(save_path)\n",
    "        with open(f\"{save_path}/{sent_idx+2}.html\", \"w\", encoding=\"UTF8\") as file:\n",
    "            file.write(str(template))"
   ]
  }
 ],
 "metadata": {
  "kernelspec": {
   "display_name": "Python 3",
   "language": "python",
   "name": "python3"
  },
  "language_info": {
   "codemirror_mode": {
    "name": "ipython",
    "version": 3
   },
   "file_extension": ".py",
   "mimetype": "text/x-python",
   "name": "python",
   "nbconvert_exporter": "python",
   "pygments_lexer": "ipython3",
   "version": "3.11.8"
  },
  "orig_nbformat": 4
 },
 "nbformat": 4,
 "nbformat_minor": 2
}
